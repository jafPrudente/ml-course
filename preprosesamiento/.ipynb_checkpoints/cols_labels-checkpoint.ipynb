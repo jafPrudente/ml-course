{
 "cells": [
  {
   "cell_type": "code",
   "execution_count": 1,
   "id": "09957f13-f742-45c5-b017-49270c149c29",
   "metadata": {},
   "outputs": [],
   "source": [
    "# Importamos bibliotecas.\n",
    "import numpy as np\n",
    "import pandas as pd"
   ]
  },
  {
   "cell_type": "code",
   "execution_count": 2,
   "id": "ff8283c4-adcb-4e82-865c-77ac069aabb1",
   "metadata": {},
   "outputs": [],
   "source": [
    "# Abrimos el dataframe.\n",
    "datasets_path = '../datasets/customer-churn-model/'\n",
    "file_name = 'Customer Churn Model.txt'\n",
    "file_path = datasets_path + file_name\n",
    "df = pd.read_csv(file_path)"
   ]
  },
  {
   "cell_type": "code",
   "execution_count": 3,
   "id": "b422d120-57c4-4246-a631-1b8e9e43607b",
   "metadata": {},
   "outputs": [
    {
     "data": {
      "text/plain": [
       "array(['State', 'Account Length', 'Area Code', 'Phone', \"Int'l Plan\",\n",
       "       'VMail Plan', 'VMail Message', 'Day Mins', 'Day Calls',\n",
       "       'Day Charge', 'Eve Mins', 'Eve Calls', 'Eve Charge', 'Night Mins',\n",
       "       'Night Calls', 'Night Charge', 'Intl Mins', 'Intl Calls',\n",
       "       'Intl Charge', 'CustServ Calls', 'Churn?'], dtype=object)"
      ]
     },
     "execution_count": 3,
     "metadata": {},
     "output_type": "execute_result"
    }
   ],
   "source": [
    "# Imprimimos las etiquetas de las columnas.\n",
    "df.columns.values"
   ]
  },
  {
   "cell_type": "code",
   "execution_count": 4,
   "id": "8dcea111-6d20-4659-85a7-257626ddc267",
   "metadata": {},
   "outputs": [
    {
     "data": {
      "text/plain": [
       "array(['A', 'B', 'C', 'D', 'E', 'F', 'G', 'H', 'I', 'J', 'K', 'L', 'M',\n",
       "       'N', 'O', 'P', 'Q', 'R', 'S', 'T', 'U'], dtype=object)"
      ]
     },
     "execution_count": 4,
     "metadata": {},
     "output_type": "execute_result"
    }
   ],
   "source": [
    "# Para cambiar las etiquetas debemos importar una lista con los nuevos nombres e importar de nuevo pero omitiendo el header y colocando estos nuevos valores como parámetro de 'names'.\n",
    "\n",
    "# Importamos las nuevas etiquetas y formateamos en lista.\n",
    "file_cols = pd.read_csv(datasets_path + 'Customer Churn Columns.csv')\n",
    "list_cols = file_cols['Column_Names'].tolist()\n",
    "\n",
    "# Volvemos a importar el dataframe con las nuevas etiquetas.\n",
    "df = pd.read_csv(file_path, header=0, names=list_cols)\n",
    "\n",
    "# Imprimimos las nuevas etiquetas de las columnas.\n",
    "df.columns.values"
   ]
  },
  {
   "cell_type": "code",
   "execution_count": null,
   "id": "3deac176-599a-4bb2-b803-fd610f415a0b",
   "metadata": {},
   "outputs": [],
   "source": []
  }
 ],
 "metadata": {
  "kernelspec": {
   "display_name": "Python 3 (ipykernel)",
   "language": "python",
   "name": "python3"
  },
  "language_info": {
   "codemirror_mode": {
    "name": "ipython",
    "version": 3
   },
   "file_extension": ".py",
   "mimetype": "text/x-python",
   "name": "python",
   "nbconvert_exporter": "python",
   "pygments_lexer": "ipython3",
   "version": "3.11.2"
  }
 },
 "nbformat": 4,
 "nbformat_minor": 5
}
