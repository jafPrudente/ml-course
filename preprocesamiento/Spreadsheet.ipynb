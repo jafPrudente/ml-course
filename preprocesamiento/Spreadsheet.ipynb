{
 "cells": [
  {
   "cell_type": "code",
   "execution_count": 1,
   "id": "e07ce67f-184f-454d-844b-42decfa544cf",
   "metadata": {},
   "outputs": [],
   "source": [
    "# Importamos bibliotecas.\n",
    "import pandas as pd"
   ]
  },
  {
   "cell_type": "code",
   "execution_count": 2,
   "id": "b304a056-04ae-454e-af50-c4a8db970bd8",
   "metadata": {},
   "outputs": [],
   "source": [
    "# Definimos rutas de archivos.\n",
    "datasets = '../datasets/'\n",
    "name = 'titanic/titanic3.xls'\n",
    "path = datasets + name"
   ]
  },
  {
   "cell_type": "code",
   "execution_count": 3,
   "id": "553b7f29-d77e-4699-8d82-0d451ee3ce39",
   "metadata": {},
   "outputs": [],
   "source": [
    "# Definimos el dataframe.\n",
    "df = pd.read_excel(path, 'titanic3')"
   ]
  },
  {
   "cell_type": "code",
   "execution_count": 4,
   "id": "3132ee6b-bc04-4862-9be0-06f2f2312ccf",
   "metadata": {},
   "outputs": [],
   "source": [
    "# Escribimos un csv y un xls a patir del dataframe.\n",
    "#df.to_csv(datasets + 'titanic/titanic_custom2.csv')\n",
    "#df.to_excel(datasets + 'titanic/titanic_custom2.xls')"
   ]
  },
  {
   "cell_type": "code",
   "execution_count": null,
   "id": "444a2b1f-5e3e-4c75-afe5-41ea0696252e",
   "metadata": {},
   "outputs": [],
   "source": []
  }
 ],
 "metadata": {
  "kernelspec": {
   "display_name": "Python 3 (ipykernel)",
   "language": "python",
   "name": "python3"
  },
  "language_info": {
   "codemirror_mode": {
    "name": "ipython",
    "version": 3
   },
   "file_extension": ".py",
   "mimetype": "text/x-python",
   "name": "python",
   "nbconvert_exporter": "python",
   "pygments_lexer": "ipython3",
   "version": "3.11.2"
  }
 },
 "nbformat": 4,
 "nbformat_minor": 5
}
